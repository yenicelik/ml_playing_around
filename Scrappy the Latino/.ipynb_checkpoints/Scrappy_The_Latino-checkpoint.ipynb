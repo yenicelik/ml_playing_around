{
 "cells": [
  {
   "cell_type": "markdown",
   "metadata": {},
   "source": [
    "# Scraping DailyMail specific articles"
   ]
  },
  {
   "cell_type": "code",
   "execution_count": 1,
   "metadata": {
    "collapsed": false
   },
   "outputs": [],
   "source": [
    "import pandas as pd\n",
    "import numpy as np\n",
    "import urllib2\n",
    "import requests\n",
    "import lxml\n",
    "import re\n",
    "from unidecode import unidecode\n",
    "\n",
    "import time\n",
    "\n",
    "try:\n",
    "    import scrapy\n",
    "except ImportError:\n",
    "    import pip\n",
    "    pip.main(['install', 'scrapy'])\n",
    "    import scrapy\n",
    "    \n",
    "#from BeautifulSoup import BeautifulSoup\n",
    "from bs4 import BeautifulSoup\n",
    "\n",
    "#try:\n",
    "#    import newspaper\n",
    "#except ImportError:\n",
    "#    import pip\n",
    "#    pip.main(['install', 'newspaper'])\n",
    "#    import newspaper"
   ]
  },
  {
   "cell_type": "code",
   "execution_count": 2,
   "metadata": {
    "collapsed": false
   },
   "outputs": [],
   "source": [
    "fb_data = pd.read_csv('DailyMail_facebook_statuses.csv')"
   ]
  },
  {
   "cell_type": "code",
   "execution_count": 3,
   "metadata": {
    "collapsed": false
   },
   "outputs": [],
   "source": [
    "#fb_data.head()"
   ]
  },
  {
   "cell_type": "code",
   "execution_count": 4,
   "metadata": {
    "collapsed": false
   },
   "outputs": [],
   "source": [
    "fb_data = fb_data[fb_data['status_link'].str.contains(\"http://dailym.ai/\")]"
   ]
  },
  {
   "cell_type": "code",
   "execution_count": 5,
   "metadata": {
    "collapsed": false,
    "scrolled": true
   },
   "outputs": [],
   "source": [
    "#fb_data"
   ]
  },
  {
   "cell_type": "code",
   "execution_count": 6,
   "metadata": {
    "collapsed": false
   },
   "outputs": [],
   "source": [
    "links = fb_data['status_link']"
   ]
  },
  {
   "cell_type": "code",
   "execution_count": 7,
   "metadata": {
    "collapsed": false
   },
   "outputs": [],
   "source": [
    "links.to_csv('DailyMail_facebook_statuses_links.csv')"
   ]
  },
  {
   "cell_type": "code",
   "execution_count": 8,
   "metadata": {
    "collapsed": false
   },
   "outputs": [
    {
     "data": {
      "text/plain": [
       "0    http://dailym.ai/2dIAo6o\n",
       "1    http://dailym.ai/2egmHRz\n",
       "2    http://dailym.ai/2e1bAvW\n",
       "3    http://dailym.ai/2exVKbs\n",
       "4    http://dailym.ai/2dIqhic\n",
       "Name: status_link, dtype: object"
      ]
     },
     "execution_count": 8,
     "metadata": {},
     "output_type": "execute_result"
    }
   ],
   "source": [
    "links.head()\n"
   ]
  },
  {
   "cell_type": "code",
   "execution_count": 9,
   "metadata": {
    "collapsed": false
   },
   "outputs": [
    {
     "data": {
      "text/plain": [
       "'http://dailym.ai/2dIAo6o'"
      ]
     },
     "execution_count": 9,
     "metadata": {},
     "output_type": "execute_result"
    }
   ],
   "source": [
    "links[0]"
   ]
  },
  {
   "cell_type": "code",
   "execution_count": 10,
   "metadata": {
    "collapsed": true
   },
   "outputs": [],
   "source": [
    "def get_body(url):\n",
    "    page = urllib2.urlopen(url).read().decode('utf8')\n",
    "    soup = BeautifulSoup(page)\n",
    "    html = soup.prettify()\n",
    "    #text = ' '.join(map(lambda p: p.text, soup.find_all('p')))\n",
    "    #return soup.title.text, text\n",
    "    return soup.title.text, soup.content"
   ]
  },
  {
   "cell_type": "code",
   "execution_count": 11,
   "metadata": {
    "collapsed": false
   },
   "outputs": [],
   "source": [
    "def get_text(url):\n",
    "    \"\"\" return title, description and text from the body of a given html \"\"\"\n",
    "    try:\n",
    "        response = requests.get(url, timeout=20)\n",
    "        response.encoding = 'ISO-88959-1'\n",
    "\n",
    "        #Create a bs-parser class\n",
    "        soup = BeautifulSoup(response.content, 'lxml')\n",
    "\n",
    "\n",
    "        #Try to catch title and description tag\n",
    "        title = re.sub(' \\| Daily Mail Online', '', unidecode(soup.title.string))\n",
    "\n",
    "        tmpall = soup.findAll('meta')\n",
    "        for meta in tmpall:\n",
    "            if 'description' == meta.get('name', '').lower():\n",
    "                description = meta['content']\n",
    "                break\n",
    "\n",
    "        #Remove certain tags from html\n",
    "        for script in soup([\"script\", \"style\", \"img\", \"video\"]):\n",
    "            script.extract()\n",
    "\n",
    "        tmpall = soup.findAll(\"div\", {\"itemprop\" : \"articleBody\"})\n",
    "\n",
    "        text = unidecode(' '.join(map( lambda p: p.text, soup.find_all(\"p\", {\"class\" : \"mol-para-with-font\"}))))\n",
    "\n",
    "        return title, description, text\n",
    "    except Exception as err:\n",
    "        print(err)\n",
    "        return '', '', ''"
   ]
  },
  {
   "cell_type": "code",
   "execution_count": 12,
   "metadata": {
    "collapsed": false,
    "scrolled": false
   },
   "outputs": [
    {
     "name": "stdout",
     "output_type": "stream",
     "text": [
      "Title\n",
      "Manchester United stars Paul Pogba, Wayne Rooney and Zlatan Ibrahimovic warm up for Liverpool clash with stretching session in car park and city stroll\n",
      "\n",
      "Description\n",
      "Manchester United geared up for their clash with old foes Liverpool in a car park as the whole of the footballing world focuses on the titanic clash at Anfield on Monday night.\n",
      "\n",
      "Text\n",
      "Manchester United geared up for their bout with old foes Liverpool in a car park as the whole of the footballing world focuses on the titanic clash at Anfield on Monday night. The Red Devils prepared for their match against Jurgen Klopp's men with a stretching session close to the Titanic Hotel and sought peace of mind before the much-hyped bout with a stroll around the city centre. Wayne Rooney has been heavily scrutinised for his performances this season but looked happy to be back in Liverpool as he stretched with his United team-mates. Eric Bailly has been a commanding figure in the heart of the Red Devils' defence since joining from Villarreal in the summer but did not share Rooney's jubilant mood. Zlatan Ibrahimovic also looked focused as he limbered up with his team-mates. The Swede hit the ground running as the focal point of Manchester United's attack but has only scored once in his last six appearances in all competitions. The indomitable 35-year-old did score a wonderful effort against Manchester City in September and will need to rouse himself once again if Jose Mourinho's men are to get anything out of their clash with Jurgen Klopp's side. The Red Devils have previous of training next to vehicles. Mourinho put his side through their paces in the car park of the Daventry Court hotel before their third round EFL Cup clash with Northampton Town in September. A lot of the attention will surround Paul Pogba once again. The PS89m midfielder has not truly sparked into life since returning from Juventus as Mourinho bids to strike the right balance in midfield, but he could really make a statement if he manages to replicate the long-range effort he scored against Netherlands during the international break. Mourinho oversaw the warm up session near his side's temporary headquarters in Liverpool and will hope to oversee a victory at Anfield also. The Portuguese has only tasted defeat twice against the Reds during his career, but one of those losses did come last season, against Klopp. The former Porto boss did put an end to Liverpool's title hopes in 2014 when his depleted Chelsea outfit capitalised on a Steven Gerrard slip and a terrible Iago Aspas corner to win 2-0. Another victory at the newly-renovated stadium could go a long way to quashing lingering hopes of a first title since 1990 for Liverpool. United have won four of the last five league meetings between the two sides but were bested by Klopp's men in the Europa League in March. The Reds stormed to a 2-0 victory at Anfield before a piece of Philippe Coutinho brilliance earned them a 1-1 draw in the second leg at Old Trafford. Rooney was the difference between the two sets of reds in the last league clash at Anfield, but his chances of starting the clash against Liverpool are slim.  Juan Mata has been preferred to United captain by Mourinho recently, and the Spaniard also has previous of guiding United to three points at Anfield. Mata scored twice in March last year - including a stunning acrobatic volley - as Louis van Gaal's men put Brendan Rodgers' side to the sword. Mourinho will be hoping for more of the same on Monday and does not want to see any histrionics from his German counterpart. The former Real Madrid and Inter boss spoke of his disdain for Klopp's exuberance in the dugout.  'I'm on the touchline to try to coach,' said the manager. 'I'm not on the touchline to ...' As his words trailed off, Mourinho's hands took over, flapping in the air.  \n"
     ]
    }
   ],
   "source": [
    "title, descr, text = get_text(links[0])\n",
    "\n",
    "print(\"Title\")\n",
    "print(title)\n",
    "print\n",
    "print(\"Description\")\n",
    "print(descr)\n",
    "print\n",
    "print(\"Text\")\n",
    "print(text)"
   ]
  },
  {
   "cell_type": "markdown",
   "metadata": {},
   "source": [
    "Displaying the HTML that we catched..."
   ]
  },
  {
   "cell_type": "code",
   "execution_count": null,
   "metadata": {
    "collapsed": false,
    "scrolled": false
   },
   "outputs": [
    {
     "name": "stdout",
     "output_type": "stream",
     "text": [
      "http://dailym.ai/2aZ9rif\n",
      "http://dailym.ai/2aWF23R\n",
      "http://dailym.ai/2anzL4J\n",
      "http://dailym.ai/2aYRaSd\n",
      "http://dailym.ai/2aOf7sC\n",
      "http://dailym.ai/2aNAuKB\n",
      "http://dailym.ai/2aDDA4M\n",
      "http://dailym.ai/2as2TDi\n",
      "http://dailym.ai/2arMRto\n",
      "http://dailym.ai/2aX0i9J\n",
      "http://dailym.ai/2aDFrq0\n",
      "http://dailym.ai/2b1zphR\n",
      "http://dailym.ai/2aZzgyR\n",
      "http://dailym.ai/2aOt2Pe\n",
      "http://dailym.ai/2asaotZ\n",
      "http://dailym.ai/2aWJ0JW\n",
      "http://dailym.ai/2aONKOY\n",
      "http://dailym.ai/2b8YjM4\n",
      "http://dailym.ai/2b1i3lb\n",
      "http://dailym.ai/2aWVyAL\n",
      "http://dailym.ai/2aOCFh3\n",
      "http://dailym.ai/2aZc6bP\n",
      "http://dailym.ai/2aoxR3y\n",
      "http://dailym.ai/2b1WXmR\n",
      "http://dailym.ai/2ar6cKS\n",
      "http://dailym.ai/2b83aNw\n",
      "http://dailym.ai/2b8Zgng\n",
      "http://dailym.ai/2ar24uC\n",
      "http://dailym.ai/2b80LlC\n",
      "http://dailym.ai/2aW7brM\n",
      "http://dailym.ai/2aoDpuW\n",
      "http://dailym.ai/2aXKRhA\n",
      "http://dailym.ai/2aBtZhi\n",
      "http://dailym.ai/2asOWoO\n",
      "http://dailym.ai/2aAI36i\n",
      "http://dailym.ai/2aWVhOl\n",
      "http://dailym.ai/2aALSZy\n",
      "http://dailym.ai/2b80oYt\n",
      "http://dailym.ai/2aAPfzy\n",
      "http://dailym.ai/2aWsnh8\n",
      "http://dailym.ai/2aARfaP\n",
      "http://dailym.ai/2b2qDjR\n",
      "http://dailym.ai/2aZkwQk\n",
      "http://dailym.ai/2aAVcwp\n",
      "http://dailym.ai/2aOEdHE\n",
      "http://dailym.ai/2b0ZDRT\n",
      "http://dailym.ai/2b0tHjx\n",
      "http://dailym.ai/2aVRQrL\n",
      "http://dailym.ai/2aEhxL4\n",
      "http://dailym.ai/2b0y7Hb\n",
      "http://dailym.ai/2aECPs6\n",
      "http://dailym.ai/2b8ZtqA\n",
      "http://dailym.ai/2aFvRTy\n",
      "http://dailym.ai/2aXi6Br\n",
      "http://dailym.ai/2aW9qf9\n",
      "http://dailym.ai/2aXhuvE\n",
      "http://dailym.ai/2aXhxYj\n",
      "http://dailym.ai/2b2Lgwk\n",
      "http://dailym.ai/2aYmTma\n",
      "http://dailym.ai/2aPCMsR\n",
      "http://dailym.ai/2ankOzt\n",
      "http://dailym.ai/2b9RlX9\n",
      "http://dailym.ai/2b0JAH3\n",
      "http://dailym.ai/2azPevC\n",
      "http://dailym.ai/2aYrnsU\n",
      "http://dailym.ai/2anHm31\n",
      "http://dailym.ai/2atzIjb\n",
      "http://dailym.ai/2aPRHTz\n",
      "http://dailym.ai/2aPNO13\n",
      "http://dailym.ai/2atAdKm\n",
      "http://dailym.ai/2b8KSvk\n",
      "http://dailym.ai/2aBwsnL\n",
      "http://dailym.ai/2aPQU5p\n",
      "http://dailym.ai/2aCnTxb\n",
      "http://dailym.ai/2aXiqAf\n",
      "http://dailym.ai/2b194nv\n",
      "http://dailym.ai/2b0KnHY\n",
      "http://dailym.ai/2aCtAeq\n",
      "http://dailym.ai/2bagAZ3\n",
      "http://dailym.ai/2apep75\n",
      "http://dailym.ai/2b1cZkm\n",
      "http://dailym.ai/2aCx9RC\n",
      "http://dailym.ai/2aBM0I8\n",
      "http://dailym.ai/2auf0zG\n",
      "http://dailym.ai/2aYTpEX\n",
      "http://dailym.ai/2b3hhV3\n",
      "http://dailym.ai/2apKEmm\n",
      "http://dailym.ai/2auneIm\n",
      "http://dailym.ai/2bab88S\n",
      "http://dailym.ai/2aYXPM5\n",
      "http://dailym.ai/2aBKd5G\n",
      "http://dailym.ai/2aCUxhT\n",
      "http://dailym.ai/2apAFh2\n",
      "http://dailym.ai/2apW21J\n",
      "http://dailym.ai/2b15HNv\n",
      "http://dailym.ai/2aC9exW\n",
      "http://dailym.ai/2aGO835\n",
      "http://dailym.ai/2aZja7Y\n",
      "http://dailym.ai/2aO44ji\n",
      "http://dailym.ai/2aQM0oq\n",
      "http://dailym.ai/2aGVe7M\n",
      "http://dailym.ai/2aCaLnq\n",
      "http://dailym.ai/2aq8AGh\n",
      "http://dailym.ai/2aCmjXR\n",
      "http://dailym.ai/2aspFuN\n",
      "http://dailym.ai/2b22MEk\n",
      "http://dailym.ai/2aOJKhx\n",
      "http://dailym.ai/2aQWAvB\n",
      "http://dailym.ai/2aSlEpc\n",
      "http://dailym.ai/2armROt\n",
      "http://dailym.ai/2aARkQ3\n",
      "http://dailym.ai/2aptndb\n",
      "http://dailym.ai/2aDpRxj\n",
      "http://dailym.ai/2aYuwJo\n",
      "http://dailym.ai/2aHithJ\n",
      "http://dailym.ai/2aDsIGa\n",
      "http://dailym.ai/2b31xBu\n",
      "http://dailym.ai/2aCSLxo\n",
      "http://dailym.ai/2aZ8OoP\n",
      "http://dailym.ai/2avgIkn\n",
      "http://dailym.ai/2aCT0bX\n",
      "http://dailym.ai/2aCU8fu\n",
      "http://dailym.ai/2b3BslK\n",
      "http://dailym.ai/2b1AABi\n",
      "http://dailym.ai/2aOIM57\n",
      "http://dailym.ai/2aNZ5iq\n",
      "http://dailym.ai/2aCUWRH\n",
      "http://dailym.ai/2aHJcuJ\n",
      "http://dailym.ai/2b1zmpI\n",
      "http://dailym.ai/2aAbtSg\n",
      "http://dailym.ai/2b00ULA\n",
      "http://dailym.ai/2b06iyw\n",
      "http://dailym.ai/2avI4qF\n",
      "http://dailym.ai/2aolHIi\n",
      "http://dailym.ai/2aO39PI\n",
      "http://dailym.ai/2aCap0a\n",
      "http://dailym.ai/2b3Lljv\n",
      "http://dailym.ai/2aO0y8o\n",
      "http://dailym.ai/2argASV\n",
      "http://dailym.ai/2auFFN4\n",
      "http://dailym.ai/2aNIpHE\n",
      "http://dailym.ai/2b350mM\n",
      "http://dailym.ai/2baBXJO\n",
      "http://dailym.ai/2aIaFMO\n",
      "http://dailym.ai/2aDiTUX\n",
      "http://dailym.ai/2b0mVKk\n",
      "http://dailym.ai/2aDjs0N\n",
      "http://dailym.ai/2aIfeXv\n",
      "http://dailym.ai/2ar4D4m\n",
      "http://dailym.ai/2b0rG6w\n",
      "http://dailym.ai/2b3ocAJ\n",
      "local variable 'description' referenced before assignment\n",
      "http://dailym.ai/2aRRorr\n",
      "http://dailym.ai/2aRTdVu\n",
      "http://dailym.ai/2b4NgnP\n",
      "http://dailym.ai/2aDl3DW\n",
      "http://dailym.ai/2aEfJEy\n",
      "http://dailym.ai/2b0wN6S\n",
      "http://dailym.ai/2awibXK\n",
      "http://dailym.ai/2aIkNoH\n",
      "http://dailym.ai/2aE4oEn\n",
      "http://dailym.ai/2arjZG3\n",
      "http://dailym.ai/2b4QpUD\n",
      "http://dailym.ai/2aEnf2e\n",
      "http://dailym.ai/2b0B9L5\n",
      "http://dailym.ai/2as57ma\n",
      "http://dailym.ai/2b0zSDR\n",
      "http://dailym.ai/2bbQchF\n",
      "http://dailym.ai/2apUmWb\n",
      "http://dailym.ai/2b0Mprc\n",
      "http://dailym.ai/2b3rAvj\n",
      "http://dailym.ai/2aDzwzP\n",
      "http://dailym.ai/2aE3s2V\n",
      "http://dailym.ai/2aDLQ2K\n",
      "http://dailym.ai/2b5emv1\n",
      "http://dailym.ai/2arNIhO\n",
      "http://dailym.ai/2aEy8kl\n",
      "http://dailym.ai/2b3MDhv\n",
      "http://dailym.ai/2bbQuoS\n",
      "http://dailym.ai/2b3oWWG\n",
      "http://dailym.ai/2b4Zpcq\n",
      "http://dailym.ai/2aIPbQ2\n",
      "http://dailym.ai/2b0Re3B\n",
      "http://dailym.ai/2b17otT\n",
      "http://dailym.ai/2aEuJCa\n",
      "http://dailym.ai/2b15zxp\n",
      "http://dailym.ai/2arbavX\n",
      "http://dailym.ai/2b1dhXM\n",
      "http://dailym.ai/2b3koQ6\n",
      "http://dailym.ai/2b4phbK\n",
      "http://dailym.ai/2aE39AR\n",
      "http://dailym.ai/2b4VsHY\n",
      "http://dailym.ai/2aEnW7s\n",
      "http://dailym.ai/2b4ZEY7\n",
      "http://dailym.ai/2b5THXF\n",
      "http://dailym.ai/2aEtejl\n",
      "http://dailym.ai/2aSKORz\n",
      "http://dailym.ai/2aJzibY\n",
      "http://dailym.ai/2b50hki\n",
      "http://dailym.ai/2ax0TtB\n",
      "http://dailym.ai/2as7GJq\n",
      "http://dailym.ai/2aJfTYx\n",
      "http://dailym.ai/2bc82kD\n",
      "http://dailym.ai/2b19CcF\n",
      "http://dailym.ai/2aSxOvd\n",
      "http://dailym.ai/2aFaqo3\n",
      "http://dailym.ai/2b1bh1L\n",
      "http://dailym.ai/2aSoVBV\n",
      "http://dailym.ai/2b1c1E9\n",
      "http://dailym.ai/2aJ6OPI\n",
      "http://dailym.ai/2as7UQT\n",
      "http://dailym.ai/2aEgfOw\n",
      "http://dailym.ai/2apdUtJ\n",
      "http://dailym.ai/2b4ofw9\n",
      "http://dailym.ai/2asHezs\n",
      "http://dailym.ai/2axkgmg\n",
      "http://dailym.ai/2ashgfz\n",
      "http://dailym.ai/2asMe79\n",
      "http://dailym.ai/2asiSFS\n",
      "http://dailym.ai/2aIk8nx\n",
      "http://dailym.ai/2bdelUX\n",
      "http://dailym.ai/2b5V20I\n",
      "http://dailym.ai/2b4QjfA\n",
      "http://dailym.ai/2b1oQhL\n",
      "http://dailym.ai/2aKr3fI\n",
      "http://dailym.ai/2aSLfeR\n",
      "http://dailym.ai/2b5VM5X\n",
      "http://dailym.ai/2bcIiVr\n",
      "http://dailym.ai/2aF0c7s\n",
      "http://dailym.ai/2arYggU\n",
      "http://dailym.ai/2aTyUXR\n",
      "http://dailym.ai/2arfPOf\n",
      "http://dailym.ai/2apoEIm\n",
      "http://dailym.ai/2aTzkgA\n",
      "http://dailym.ai/2aEdSeL\n",
      "http://dailym.ai/2awYdvV\n",
      "http://dailym.ai/2aJ5Pid\n",
      "http://dailym.ai/2b5yfSL\n",
      "http://dailym.ai/2aFHr3y\n",
      "http://dailym.ai/2aTO0MP\n",
      "http://dailym.ai/2aTNTB0\n",
      "http://dailym.ai/2aFGmIX\n",
      "http://dailym.ai/2atQC5R\n",
      "http://dailym.ai/2aKWUNe\n",
      "http://dailym.ai/2az1g6W\n",
      "http://dailym.ai/2b2HCFD\n",
      "http://dailym.ai/2az6Shp\n",
      "http://dailym.ai/2az9tbb\n",
      "http://dailym.ai/2aFWnPn\n",
      "http://dailym.ai/2b2LRRl\n",
      "http://dailym.ai/2aFXt9q\n",
      "http://dailym.ai/2bdYohi\n",
      "http://dailym.ai/2be1oKD\n",
      "http://dailym.ai/2aG13k4\n",
      "http://dailym.ai/2aLB8JA\n",
      "http://dailym.ai/2aG6m2T\n",
      "http://dailym.ai/2be23fg\n",
      "http://dailym.ai/2b7x8lw\n",
      "http://dailym.ai/2azyQda\n",
      "http://dailym.ai/2aunmvU\n",
      "http://dailym.ai/2auurMZ\n",
      "http://dailym.ai/2aLOrcQ\n",
      "http://dailym.ai/2befdZA\n",
      "http://dailym.ai/2azo2vp\n",
      "http://dailym.ai/2berRYn\n",
      "http://dailym.ai/2aGbnMV\n",
      "http://dailym.ai/2bet3v3\n",
      "http://dailym.ai/2auQNO8\n",
      "http://dailym.ai/2aUHx4a\n",
      "http://dailym.ai/2aUPVkd\n",
      "http://dailym.ai/2aGIX5x\n",
      "http://dailym.ai/2aLMkFO\n",
      "http://dailym.ai/2aULvtt\n",
      "http://dailym.ai/2aGSvgO\n",
      "http://dailym.ai/2beMuUk\n",
      "http://dailym.ai/2aUxBYi\n",
      "http://dailym.ai/2b80ZgO\n",
      "http://dailym.ai/2beoWyR\n",
      "http://dailym.ai/2b3TmaN\n",
      "http://dailym.ai/2b7FKfg\n",
      "http://dailym.ai/2b8UlH3\n",
      "http://dailym.ai/2aGXVZf\n",
      "http://dailym.ai/2aGZL8x\n",
      "http://dailym.ai/2aH8hEu\n",
      "http://dailym.ai/2b8dIjN\n",
      "http://dailym.ai/2b90C5T\n",
      "http://dailym.ai/2avpUtI\n",
      "http://dailym.ai/2aHBz62\n",
      "http://dailym.ai/2aB0OoR\n",
      "http://dailym.ai/2b9smax\n",
      "http://dailym.ai/2aH9tb1\n",
      "http://dailym.ai/2b3RK0U\n",
      "http://dailym.ai/2azLMzp\n",
      "http://dailym.ai/2aUSe6Q\n",
      "http://dailym.ai/2b9IM2C\n",
      "http://dailym.ai/2b3cS79\n",
      "http://dailym.ai/2avILEW\n",
      "http://dailym.ai/2b9CjkP\n",
      "http://dailym.ai/2b9Ctsq\n",
      "http://dailym.ai/2aGgBIE\n",
      "http://dailym.ai/2aUgGp6\n",
      "http://dailym.ai/2bfx5TH\n",
      "http://dailym.ai/2ba74Jx\n",
      "http://dailym.ai/2aG0whR\n",
      "http://dailym.ai/2azsKJz\n",
      "http://dailym.ai/2aLCNhV\n",
      "http://dailym.ai/2azxcbs\n",
      "http://dailym.ai/2b8HyUY\n",
      "http://dailym.ai/2aGACyU\n",
      "http://dailym.ai/2aMjmFM\n",
      "http://dailym.ai/2aAyl2t\n",
      "http://dailym.ai/2b7AhFi\n",
      "http://dailym.ai/2b3RFdF\n",
      "http://dailym.ai/2b7tY4o\n",
      "http://dailym.ai/2be1UZ8\n",
      "http://dailym.ai/2aO2FKh\n",
      "http://dailym.ai/2av0UCE\n",
      "http://dailym.ai/2b7ByZF\n",
      "http://dailym.ai/2b7uM9m\n",
      "http://dailym.ai/2bfi3xl\n",
      "http://dailym.ai/2aGgahj\n",
      "http://dailym.ai/2bfV5pN\n",
      "http://dailym.ai/2bazYGb\n",
      "http://dailym.ai/2aICQd1\n",
      "http://dailym.ai/2baB1WQ\n",
      "http://dailym.ai/2aOg2Kt\n",
      "http://dailym.ai/2b7At42\n"
     ]
    }
   ],
   "source": [
    "for url in reversed(links):\n",
    "    title, descr, text = get_text(url)\n",
    "    with open(\"DailyMail_titles.txt\", \"a\") as myfile:\n",
    "        myfile.write(title.encode('utf-8') + '. ')\n",
    "    with open(\"DailyMail_descriptions.txt\", \"a\") as myfile:\n",
    "        myfile.write(descr.encode('utf-8') + ' <br /> ')\n",
    "    with open(\"DailyMail_content.txt\", \"a\") as myfile:\n",
    "        myfile.write(text.encode('utf-8') + '<br /> ')\n",
    "    #time.sleep(0.2)\n",
    "    print(url)"
   ]
  },
  {
   "cell_type": "code",
   "execution_count": 43,
   "metadata": {
    "collapsed": false,
    "scrolled": false
   },
   "outputs": [],
   "source": [
    "#from IPython.core.display import display, HTML\n",
    "#display(HTML(str(text)))"
   ]
  },
  {
   "cell_type": "code",
   "execution_count": 45,
   "metadata": {
    "collapsed": false
   },
   "outputs": [],
   "source": [
    "#title, body = get_body(links[0])"
   ]
  },
  {
   "cell_type": "code",
   "execution_count": 47,
   "metadata": {
    "collapsed": false
   },
   "outputs": [],
   "source": [
    "#print(title)"
   ]
  },
  {
   "cell_type": "code",
   "execution_count": 48,
   "metadata": {
    "collapsed": false
   },
   "outputs": [],
   "source": [
    "#print(body)"
   ]
  },
  {
   "cell_type": "code",
   "execution_count": null,
   "metadata": {
    "collapsed": true
   },
   "outputs": [],
   "source": []
  }
 ],
 "metadata": {
  "anaconda-cloud": {},
  "kernelspec": {
   "display_name": "Python [py27]",
   "language": "python",
   "name": "Python [py27]"
  },
  "language_info": {
   "codemirror_mode": {
    "name": "ipython",
    "version": 2
   },
   "file_extension": ".py",
   "mimetype": "text/x-python",
   "name": "python",
   "nbconvert_exporter": "python",
   "pygments_lexer": "ipython2",
   "version": "2.7.12"
  }
 },
 "nbformat": 4,
 "nbformat_minor": 0
}
