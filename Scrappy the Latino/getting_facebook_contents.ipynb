{
 "cells": [
  {
   "cell_type": "markdown",
   "metadata": {},
   "source": [
    "# How to Scrape Data From Facebook Page Posts for Statistical Analysis\n",
    "\n",
    "By [Max Woolf (@minimaxir)](http://minimaxir.com/)\n",
    "\n",
    "This notebook describes how to build a Facebook Scraper using the latest version of Facebook's Graph API (v2.4). This is the accompanyment to my blog post [How to Scrape Data From Facebook Page Posts for Statistical Analysis](http://minimaxir.com/2015/07/facebook-scraper/)."
   ]
  },
  {
   "cell_type": "code",
   "execution_count": 10,
   "metadata": {
    "collapsed": true
   },
   "outputs": [],
   "source": [
    "# import some Python dependencies\n",
    "\n",
    "import urllib2\n",
    "import json\n",
    "import datetime\n",
    "import csv\n",
    "import time"
   ]
  },
  {
   "cell_type": "markdown",
   "metadata": {},
   "source": [
    "Accessing Facebook page data requires an access token.\n",
    "\n",
    "Since the user access token expires within an hour, we need to create a dummy application *for the sole purpose of scraping* and use the app ID and app secret generated there [as described here](https://developers.facebook.com/docs/facebook-login/access-tokens#apptokens), both of which never expire."
   ]
  },
  {
   "cell_type": "code",
   "execution_count": 11,
   "metadata": {
    "collapsed": false
   },
   "outputs": [],
   "source": [
    "# Since the code output in this notebook leaks the app_secret,\n",
    "# it has been reset by the time you read this.\n",
    "\n",
    "app_id = \"1126944254025998\"\n",
    "app_secret = \"abea2139d0f027f8db87850213c4e470\" # DO NOT SHARE WITH ANYONE!\n",
    "\n",
    "access_token = app_id + \"|\" + app_secret"
   ]
  },
  {
   "cell_type": "markdown",
   "metadata": {},
   "source": [
    "Now we can access public Facebook data without limit. Let's do our analysis on the [New York Times Facebook page](https://www.facebook.com/nytimes), which is popular enough to yield good data."
   ]
  },
  {
   "cell_type": "code",
   "execution_count": 12,
   "metadata": {
    "collapsed": true
   },
   "outputs": [],
   "source": [
    "page_id = 'DailyMail'"
   ]
  },
  {
   "cell_type": "markdown",
   "metadata": {},
   "source": [
    "Let's write a quick program to ping NYT's Facebook page to verify that the `access_token` works and the `page_id` is valid."
   ]
  },
  {
   "cell_type": "code",
   "execution_count": 13,
   "metadata": {
    "collapsed": false
   },
   "outputs": [
    {
     "name": "stdout",
     "output_type": "stream",
     "text": [
      "{\n",
      "    \"id\": \"164305410295882\", \n",
      "    \"name\": \"Daily Mail\"\n",
      "}\n"
     ]
    }
   ],
   "source": [
    "def testFacebookPageData(page_id, access_token):\n",
    "    \n",
    "    # construct the URL string\n",
    "    base = \"https://graph.facebook.com/v2.4\"\n",
    "    node = \"/\" + page_id\n",
    "    parameters = \"/?access_token=%s\" % access_token\n",
    "    url = base + node + parameters\n",
    "    \n",
    "    # retrieve data\n",
    "    req = urllib2.Request(url)\n",
    "    response = urllib2.urlopen(req)\n",
    "    data = json.loads(response.read())\n",
    "    \n",
    "    print json.dumps(data, indent=4, sort_keys=True)\n",
    "    \n",
    "\n",
    "testFacebookPageData(page_id, access_token)"
   ]
  },
  {
   "cell_type": "markdown",
   "metadata": {},
   "source": [
    "When scraping large amounts of data from public APIs, there's a high probability that you'll hit an [HTTP Error 500 (Internal Error)](http://www.checkupdown.com/status/E500.html) at some point. There is no way to avoid that on our end. \n",
    "\n",
    "Instead, we'll use a helper function to catch the error and try again after a few seconds, which usually works. This helper function also consolidates the data retrival code, so it kills two birds with one stone."
   ]
  },
  {
   "cell_type": "code",
   "execution_count": 14,
   "metadata": {
    "collapsed": true
   },
   "outputs": [],
   "source": [
    "def request_until_succeed(url):\n",
    "    req = urllib2.Request(url)\n",
    "    success = False\n",
    "    while success is False:\n",
    "        try: \n",
    "            response = urllib2.urlopen(req)\n",
    "            if response.getcode() == 200:\n",
    "                success = True\n",
    "        except Exception, e:\n",
    "            print e\n",
    "            time.sleep(5)\n",
    "            \n",
    "            print \"Error for URL %s: %s\" % (url, datetime.datetime.now())\n",
    "\n",
    "    return response.read()"
   ]
  },
  {
   "cell_type": "markdown",
   "metadata": {},
   "source": [
    "The data is the Facebook Page metadata however; we need to change the endpoint to the /feed endpoint."
   ]
  },
  {
   "cell_type": "code",
   "execution_count": 15,
   "metadata": {
    "collapsed": false,
    "scrolled": false
   },
   "outputs": [
    {
     "name": "stdout",
     "output_type": "stream",
     "text": [
      "{\n",
      "    \"data\": [\n",
      "        {\n",
      "            \"created_time\": \"2016-10-17T13:15:07+0000\", \n",
      "            \"id\": \"164305410295882_1554271377965938\", \n",
      "            \"message\": \"Not the hero anyone needed...\"\n",
      "        }, \n",
      "        {\n",
      "            \"created_time\": \"2016-10-17T13:00:51+0000\", \n",
      "            \"id\": \"164305410295882_1554230941303315\", \n",
      "            \"message\": \"'America and Russia WILL come to a point of war'\"\n",
      "        }, \n",
      "        {\n",
      "            \"created_time\": \"2016-10-17T12:45:07+0000\", \n",
      "            \"id\": \"164305410295882_1554200241306385\", \n",
      "            \"message\": \"Her son even gets mistaken for her BOYFRIEND!\"\n",
      "        }, \n",
      "        {\n",
      "            \"created_time\": \"2016-10-17T12:30:16+0000\", \n",
      "            \"id\": \"164305410295882_1554176171308792\", \n",
      "            \"message\": \"Amazing child. Well done!\"\n",
      "        }, \n",
      "        {\n",
      "            \"created_time\": \"2016-10-17T12:15:12+0000\", \n",
      "            \"id\": \"164305410295882_1554144001312009\", \n",
      "            \"message\": \"Pucker up!\"\n",
      "        }, \n",
      "        {\n",
      "            \"created_time\": \"2016-10-17T12:00:21+0000\", \n",
      "            \"id\": \"164305410295882_1554106981315711\", \n",
      "            \"message\": \"'My reaction as an Arab is revenge'\"\n",
      "        }, \n",
      "        {\n",
      "            \"created_time\": \"2016-10-17T11:45:04+0000\", \n",
      "            \"id\": \"164305410295882_1554069834652759\", \n",
      "            \"message\": \"BREAKING: Teachers and pupils have been ordered to stay inside\"\n",
      "        }, \n",
      "        {\n",
      "            \"created_time\": \"2016-10-17T11:30:37+0000\", \n",
      "            \"id\": \"164305410295882_1554028957990180\", \n",
      "            \"message\": \"BREAKING: Ben Needham detectives find 'item belonging to' the missing British toddler in Kos and reveal they now believe he died 'in an accident'.\"\n",
      "        }, \n",
      "        {\n",
      "            \"created_time\": \"2016-10-17T11:18:59+0000\", \n",
      "            \"id\": \"164305410295882_1554008487992227\", \n",
      "            \"message\": \"Editor-in-chief of Russia Today TV reveals UK bank accounts have been frozen.\"\n",
      "        }, \n",
      "        {\n",
      "            \"created_time\": \"2016-10-17T11:15:05+0000\", \n",
      "            \"id\": \"164305410295882_1553999474659795\", \n",
      "            \"message\": \"This is not cool Zayn\"\n",
      "        }, \n",
      "        {\n",
      "            \"created_time\": \"2016-10-17T11:00:07+0000\", \n",
      "            \"id\": \"164305410295882_1553970777995998\", \n",
      "            \"message\": \"She's definitely not shy!\"\n",
      "        }, \n",
      "        {\n",
      "            \"created_time\": \"2016-10-17T10:45:05+0000\", \n",
      "            \"id\": \"164305410295882_1553935934666149\", \n",
      "            \"message\": \"Former police and military officers take the law into their own hands to keep Mexican migrants out of the US.\"\n",
      "        }, \n",
      "        {\n",
      "            \"created_time\": \"2016-10-17T10:30:28+0000\", \n",
      "            \"id\": \"164305410295882_1553904354669307\", \n",
      "            \"message\": \"He spent \\u00a322,000 to 'become the perfect 10'\"\n",
      "        }, \n",
      "        {\n",
      "            \"created_time\": \"2016-10-17T10:15:07+0000\", \n",
      "            \"id\": \"164305410295882_1553871058005970\", \n",
      "            \"message\": \"'Killer clowns tried to snatch my BABY'\"\n",
      "        }, \n",
      "        {\n",
      "            \"created_time\": \"2016-10-17T10:00:06+0000\", \n",
      "            \"id\": \"164305410295882_1553835281342881\", \n",
      "            \"message\": \"Giving Kim Kardashian West a run for her money!\"\n",
      "        }, \n",
      "        {\n",
      "            \"created_time\": \"2016-10-17T09:45:02+0000\", \n",
      "            \"id\": \"164305410295882_1553811551345254\", \n",
      "            \"message\": \"He was left with no other option because the sidewalk was under construction.\"\n",
      "        }, \n",
      "        {\n",
      "            \"created_time\": \"2016-10-17T09:30:23+0000\", \n",
      "            \"id\": \"164305410295882_1553786368014439\", \n",
      "            \"message\": \"Put Maximus the cat on Britain's Got Talent \\ud83d\\ude0d \\ud83d\\udc31\"\n",
      "        }, \n",
      "        {\n",
      "            \"created_time\": \"2016-10-17T09:15:08+0000\", \n",
      "            \"id\": \"164305410295882_1553763638016712\", \n",
      "            \"message\": \"'My mother in-law regifted me my own socks' \\ud83d\\ude31\"\n",
      "        }, \n",
      "        {\n",
      "            \"created_time\": \"2016-10-17T09:00:00+0000\", \n",
      "            \"id\": \"164305410295882_1552654648127611\", \n",
      "            \"message\": \"This driver experiences INSTANT karma trying to pass a school bus\"\n",
      "        }, \n",
      "        {\n",
      "            \"created_time\": \"2016-10-17T08:45:06+0000\", \n",
      "            \"id\": \"164305410295882_1553716148021461\", \n",
      "            \"message\": \"An amazing performance!\"\n",
      "        }, \n",
      "        {\n",
      "            \"created_time\": \"2016-10-17T08:15:09+0000\", \n",
      "            \"id\": \"164305410295882_1553660048027071\", \n",
      "            \"message\": \"Brad Pitt and Angelina Jolie feared they would be kidnapped.\"\n",
      "        }, \n",
      "        {\n",
      "            \"created_time\": \"2016-10-17T07:45:06+0000\", \n",
      "            \"id\": \"164305410295882_1553618144697928\", \n",
      "            \"message\": \"Dripping blood... or something else?\"\n",
      "        }, \n",
      "        {\n",
      "            \"created_time\": \"2016-10-17T07:30:21+0000\", \n",
      "            \"id\": \"164305410295882_1553592368033839\", \n",
      "            \"message\": \"The Boomtown Rats bandmate Johnnie Fingers insists HE wrote I Don't Like Mondays\"\n",
      "        }, \n",
      "        {\n",
      "            \"created_time\": \"2016-10-17T07:15:03+0000\", \n",
      "            \"id\": \"164305410295882_1553576664702076\", \n",
      "            \"message\": \"What a hero!\"\n",
      "        }, \n",
      "        {\n",
      "            \"created_time\": \"2016-10-17T07:01:07+0000\", \n",
      "            \"id\": \"164305410295882_1553556278037448\", \n",
      "            \"message\": \"Conjoined twins with two heads, four hands and two feet dumped by their parents\"\n",
      "        }\n",
      "    ], \n",
      "    \"paging\": {\n",
      "        \"next\": \"https://graph.facebook.com/v2.8/164305410295882/feed?access_token=1126944254025998|abea2139d0f027f8db87850213c4e470&limit=25&until=1476687667&__paging_token=enc_AdCZCjwAn3aZBhXZCG0lXFZAfcNGxgS4o48II8ScJTEhGupkYIAZCU4WWvp1cySwO2L45ZAvikLlyckCzmZBNbdHsPnBZCHP4ZBkExpwDZC81nwPAxLv8IxwZDZD\", \n",
      "        \"previous\": \"https://graph.facebook.com/v2.8/164305410295882/feed?since=1476710107&access_token=1126944254025998|abea2139d0f027f8db87850213c4e470&limit=25&__paging_token=enc_AdDP6NYbxgvTkSisP8U08yp8cy7itASjhpNZBUJN9dRvmFIAvTwAb3RxQBX7GKcg5I5KlNUhwfBmdTWOKn243Nh9b3KQ7xptedwBLuYOxshRTmQZDZD&__previous=1\"\n",
      "    }\n",
      "}\n"
     ]
    }
   ],
   "source": [
    "def testFacebookPageFeedData(page_id, access_token):\n",
    "    \n",
    "    # construct the URL string\n",
    "    base = \"https://graph.facebook.com/v2.4\"\n",
    "    node = \"/\" + page_id + \"/feed\" # changed\n",
    "    parameters = \"/?access_token=%s\" % access_token\n",
    "    url = base + node + parameters\n",
    "    \n",
    "    # retrieve data\n",
    "    data = json.loads(request_until_succeed(url))\n",
    "    \n",
    "    print json.dumps(data, indent=4, sort_keys=True)\n",
    "    \n",
    "\n",
    "testFacebookPageFeedData(page_id, access_token)"
   ]
  },
  {
   "cell_type": "markdown",
   "metadata": {},
   "source": [
    "In v2.4, the default behavior is to return very, very little metadata for statuses in order to reduce bandwidth, with the expectation the user will request the necessary fields.\n",
    "\n",
    "We don't need data on every NYT status. Yet. Let's reduce the requested fields to exactly what we need, and the number of stories returned to 1 so we can process it."
   ]
  },
  {
   "cell_type": "code",
   "execution_count": 16,
   "metadata": {
    "collapsed": false,
    "scrolled": false
   },
   "outputs": [
    {
     "name": "stdout",
     "output_type": "stream",
     "text": [
      "{\n",
      "    \"comments\": {\n",
      "        \"data\": [\n",
      "            {\n",
      "                \"created_time\": \"2016-10-17T13:20:34+0000\", \n",
      "                \"from\": {\n",
      "                    \"id\": \"1796613387276055\", \n",
      "                    \"name\": \"Craig Butler\"\n",
      "                }, \n",
      "                \"id\": \"1554271377965938_1554282307964845\", \n",
      "                \"message\": \"At least he didn't try to save an imaginary dog from a fire\"\n",
      "            }\n",
      "        ], \n",
      "        \"paging\": {\n",
      "            \"cursors\": {\n",
      "                \"after\": \"MjkZD\", \n",
      "                \"before\": \"MjkZD\"\n",
      "            }, \n",
      "            \"next\": \"https://graph.facebook.com/v2.8/164305410295882_1554271377965938/comments?access_token=1126944254025998%7Cabea2139d0f027f8db87850213c4e470&summary=true&limit=1&after=MjkZD\"\n",
      "        }, \n",
      "        \"summary\": {\n",
      "            \"can_comment\": false, \n",
      "            \"order\": \"ranked\", \n",
      "            \"total_count\": 29\n",
      "        }\n",
      "    }, \n",
      "    \"created_time\": \"2016-10-17T13:15:07+0000\", \n",
      "    \"id\": \"164305410295882_1554271377965938\", \n",
      "    \"likes\": {\n",
      "        \"data\": [\n",
      "            {\n",
      "                \"id\": \"1208450745880594\", \n",
      "                \"name\": \"Shrey Jalote\"\n",
      "            }\n",
      "        ], \n",
      "        \"paging\": {\n",
      "            \"cursors\": {\n",
      "                \"after\": \"MTIwODQ1MDc0NTg4MDU5NAZDZD\", \n",
      "                \"before\": \"MTIwODQ1MDc0NTg4MDU5NAZDZD\"\n",
      "            }, \n",
      "            \"next\": \"https://graph.facebook.com/v2.8/164305410295882_1554271377965938/likes?access_token=1126944254025998%7Cabea2139d0f027f8db87850213c4e470&summary=true&limit=1&after=MTIwODQ1MDc0NTg4MDU5NAZDZD\"\n",
      "        }, \n",
      "        \"summary\": {\n",
      "            \"can_like\": false, \n",
      "            \"has_liked\": false, \n",
      "            \"total_count\": 208\n",
      "        }\n",
      "    }, \n",
      "    \"link\": \"http://dailym.ai/2dVFBJW\", \n",
      "    \"message\": \"Not the hero anyone needed...\", \n",
      "    \"name\": \"Man 'high on LSD' breaks into house to save dog from imaginary fire\", \n",
      "    \"shares\": {\n",
      "        \"count\": 51\n",
      "    }, \n",
      "    \"type\": \"link\"\n",
      "}\n"
     ]
    }
   ],
   "source": [
    "def getFacebookPageFeedData(page_id, access_token, num_statuses):\n",
    "    \n",
    "    # construct the URL string\n",
    "    base = \"https://graph.facebook.com\"\n",
    "    node = \"/\" + page_id + \"/feed\" \n",
    "    parameters = \"/?fields=message,link,created_time,type,name,id,likes.limit(1).summary(true),comments.limit(1).summary(true),shares&limit=%s&access_token=%s\" % (num_statuses, access_token) # changed\n",
    "    url = base + node + parameters\n",
    "    \n",
    "    # retrieve data\n",
    "    data = json.loads(request_until_succeed(url))\n",
    "    \n",
    "    return data\n",
    "    \n",
    "\n",
    "test_status = getFacebookPageFeedData(page_id, access_token, 1)[\"data\"][0]\n",
    "print json.dumps(test_status, indent=4, sort_keys=True)"
   ]
  },
  {
   "cell_type": "markdown",
   "metadata": {},
   "source": [
    "Now that we have a sample Facebook page status, we can write a function to process each field individually."
   ]
  },
  {
   "cell_type": "code",
   "execution_count": 17,
   "metadata": {
    "collapsed": false
   },
   "outputs": [
    {
     "name": "stdout",
     "output_type": "stream",
     "text": [
      "(u'164305410295882_1554271377965938', 'Not the hero anyone needed...', \"Man 'high on LSD' breaks into house to save dog from imaginary fire\", u'link', u'http://dailym.ai/2dVFBJW', '2016-10-17 08:15:07', 208, 29, 51)\n"
     ]
    }
   ],
   "source": [
    "def processFacebookPageFeedStatus(status):\n",
    "    \n",
    "    # The status is now a Python dictionary, so for top-level items,\n",
    "    # we can simply call the key.\n",
    "    \n",
    "    # Additionally, some items may not always exist,\n",
    "    # so must check for existence first\n",
    "    \n",
    "    status_id = status['id']\n",
    "    status_message = '' if 'message' not in status.keys() else status['message'].encode('utf-8')\n",
    "    link_name = '' if 'name' not in status.keys() else status['name'].encode('utf-8')\n",
    "    status_type = status['type']\n",
    "    status_link = '' if 'link' not in status.keys() else status['link']\n",
    "    \n",
    "    \n",
    "    # Time needs special care since a) it's in UTC and\n",
    "    # b) it's not easy to use in statistical programs.\n",
    "    \n",
    "    status_published = datetime.datetime.strptime(status['created_time'],'%Y-%m-%dT%H:%M:%S+0000')\n",
    "    status_published = status_published + datetime.timedelta(hours=-5) # EST\n",
    "    status_published = status_published.strftime('%Y-%m-%d %H:%M:%S') # best time format for spreadsheet programs\n",
    "    \n",
    "    # Nested items require chaining dictionary keys.\n",
    "    \n",
    "    num_likes = 0 if 'likes' not in status.keys() else status['likes']['summary']['total_count']\n",
    "    num_comments = 0 if 'comments' not in status.keys() else status['comments']['summary']['total_count']\n",
    "    num_shares = 0 if 'shares' not in status.keys() else status['shares']['count']\n",
    "    \n",
    "    # return a tuple of all processed data\n",
    "    return (status_id, status_message, link_name, status_type, status_link,\n",
    "           status_published, num_likes, num_comments, num_shares)\n",
    "\n",
    "processed_test_status = processFacebookPageFeedStatus(test_status)\n",
    "print processed_test_status"
   ]
  },
  {
   "cell_type": "markdown",
   "metadata": {},
   "source": [
    "Surprisingly, we're almost done! Now we just need to:\n",
    "\n",
    "1. Query each page of Facebook Page Statuses (100 statuses per page) using `getFacebookPageFeedData`.\n",
    "2. Process all statuses on that page using `processFacebookPageFeedStatus` and writing the output to a CSV file.\n",
    "3. Navigate to the next page, and repeat until no more statuses\n",
    "\n",
    "This block implements both the writing to CSV and page navigation."
   ]
  },
  {
   "cell_type": "code",
   "execution_count": 20,
   "metadata": {
    "collapsed": false,
    "scrolled": true
   },
   "outputs": [
    {
     "name": "stdout",
     "output_type": "stream",
     "text": [
      "Scraping DailyMail Facebook Page: 2016-10-17 16:51:56.155208\n",
      "\n",
      "1000 Statuses Processed: 2016-10-17 16:52:36.162065\n",
      "2000 Statuses Processed: 2016-10-17 16:53:15.609109\n",
      "3000 Statuses Processed: 2016-10-17 16:53:57.217003\n",
      "4000 Statuses Processed: 2016-10-17 16:54:38.241483\n",
      "5000 Statuses Processed: 2016-10-17 16:55:22.099445\n",
      "6000 Statuses Processed: 2016-10-17 16:56:07.078425\n",
      "7000 Statuses Processed: 2016-10-17 16:56:41.495671\n"
     ]
    },
    {
     "ename": "KeyError",
     "evalue": "'total_count'",
     "output_type": "error",
     "traceback": [
      "\u001b[0;31m---------------------------------------------------------------------------\u001b[0m",
      "\u001b[0;31mKeyError\u001b[0m                                  Traceback (most recent call last)",
      "\u001b[0;32m<ipython-input-20-8f8448bb5ec1>\u001b[0m in \u001b[0;36m<module>\u001b[0;34m()\u001b[0m\n\u001b[1;32m     32\u001b[0m \u001b[0;34m\u001b[0m\u001b[0m\n\u001b[1;32m     33\u001b[0m \u001b[0;34m\u001b[0m\u001b[0m\n\u001b[0;32m---> 34\u001b[0;31m \u001b[0mscrapeFacebookPageFeedStatus\u001b[0m\u001b[0;34m(\u001b[0m\u001b[0mpage_id\u001b[0m\u001b[0;34m,\u001b[0m \u001b[0maccess_token\u001b[0m\u001b[0;34m)\u001b[0m\u001b[0;34m\u001b[0m\u001b[0m\n\u001b[0m",
      "\u001b[0;32m<ipython-input-20-8f8448bb5ec1>\u001b[0m in \u001b[0;36mscrapeFacebookPageFeedStatus\u001b[0;34m(page_id, access_token)\u001b[0m\n\u001b[1;32m     15\u001b[0m         \u001b[0;32mwhile\u001b[0m \u001b[0mhas_next_page\u001b[0m\u001b[0;34m:\u001b[0m\u001b[0;34m\u001b[0m\u001b[0m\n\u001b[1;32m     16\u001b[0m             \u001b[0;32mfor\u001b[0m \u001b[0mstatus\u001b[0m \u001b[0;32min\u001b[0m \u001b[0mstatuses\u001b[0m\u001b[0;34m[\u001b[0m\u001b[0;34m'data'\u001b[0m\u001b[0;34m]\u001b[0m\u001b[0;34m:\u001b[0m\u001b[0;34m\u001b[0m\u001b[0m\n\u001b[0;32m---> 17\u001b[0;31m                 \u001b[0mw\u001b[0m\u001b[0;34m.\u001b[0m\u001b[0mwriterow\u001b[0m\u001b[0;34m(\u001b[0m\u001b[0mprocessFacebookPageFeedStatus\u001b[0m\u001b[0;34m(\u001b[0m\u001b[0mstatus\u001b[0m\u001b[0;34m)\u001b[0m\u001b[0;34m)\u001b[0m\u001b[0;34m\u001b[0m\u001b[0m\n\u001b[0m\u001b[1;32m     18\u001b[0m \u001b[0;34m\u001b[0m\u001b[0m\n\u001b[1;32m     19\u001b[0m                 \u001b[0;31m# output progress occasionally to make sure code is not stalling\u001b[0m\u001b[0;34m\u001b[0m\u001b[0;34m\u001b[0m\u001b[0m\n",
      "\u001b[0;32m<ipython-input-17-363d44ff32d6>\u001b[0m in \u001b[0;36mprocessFacebookPageFeedStatus\u001b[0;34m(status)\u001b[0m\n\u001b[1;32m     24\u001b[0m \u001b[0;34m\u001b[0m\u001b[0m\n\u001b[1;32m     25\u001b[0m     \u001b[0mnum_likes\u001b[0m \u001b[0;34m=\u001b[0m \u001b[0;36m0\u001b[0m \u001b[0;32mif\u001b[0m \u001b[0;34m'likes'\u001b[0m \u001b[0;32mnot\u001b[0m \u001b[0;32min\u001b[0m \u001b[0mstatus\u001b[0m\u001b[0;34m.\u001b[0m\u001b[0mkeys\u001b[0m\u001b[0;34m(\u001b[0m\u001b[0;34m)\u001b[0m \u001b[0;32melse\u001b[0m \u001b[0mstatus\u001b[0m\u001b[0;34m[\u001b[0m\u001b[0;34m'likes'\u001b[0m\u001b[0;34m]\u001b[0m\u001b[0;34m[\u001b[0m\u001b[0;34m'summary'\u001b[0m\u001b[0;34m]\u001b[0m\u001b[0;34m[\u001b[0m\u001b[0;34m'total_count'\u001b[0m\u001b[0;34m]\u001b[0m\u001b[0;34m\u001b[0m\u001b[0m\n\u001b[0;32m---> 26\u001b[0;31m     \u001b[0mnum_comments\u001b[0m \u001b[0;34m=\u001b[0m \u001b[0;36m0\u001b[0m \u001b[0;32mif\u001b[0m \u001b[0;34m'comments'\u001b[0m \u001b[0;32mnot\u001b[0m \u001b[0;32min\u001b[0m \u001b[0mstatus\u001b[0m\u001b[0;34m.\u001b[0m\u001b[0mkeys\u001b[0m\u001b[0;34m(\u001b[0m\u001b[0;34m)\u001b[0m \u001b[0;32melse\u001b[0m \u001b[0mstatus\u001b[0m\u001b[0;34m[\u001b[0m\u001b[0;34m'comments'\u001b[0m\u001b[0;34m]\u001b[0m\u001b[0;34m[\u001b[0m\u001b[0;34m'summary'\u001b[0m\u001b[0;34m]\u001b[0m\u001b[0;34m[\u001b[0m\u001b[0;34m'total_count'\u001b[0m\u001b[0;34m]\u001b[0m\u001b[0;34m\u001b[0m\u001b[0m\n\u001b[0m\u001b[1;32m     27\u001b[0m     \u001b[0mnum_shares\u001b[0m \u001b[0;34m=\u001b[0m \u001b[0;36m0\u001b[0m \u001b[0;32mif\u001b[0m \u001b[0;34m'shares'\u001b[0m \u001b[0;32mnot\u001b[0m \u001b[0;32min\u001b[0m \u001b[0mstatus\u001b[0m\u001b[0;34m.\u001b[0m\u001b[0mkeys\u001b[0m\u001b[0;34m(\u001b[0m\u001b[0;34m)\u001b[0m \u001b[0;32melse\u001b[0m \u001b[0mstatus\u001b[0m\u001b[0;34m[\u001b[0m\u001b[0;34m'shares'\u001b[0m\u001b[0;34m]\u001b[0m\u001b[0;34m[\u001b[0m\u001b[0;34m'count'\u001b[0m\u001b[0;34m]\u001b[0m\u001b[0;34m\u001b[0m\u001b[0m\n\u001b[1;32m     28\u001b[0m \u001b[0;34m\u001b[0m\u001b[0m\n",
      "\u001b[0;31mKeyError\u001b[0m: 'total_count'"
     ]
    }
   ],
   "source": [
    "def scrapeFacebookPageFeedStatus(page_id, access_token):\n",
    "    with open('%s_facebook_statuses.csv' % page_id, 'wb') as file:\n",
    "        w = csv.writer(file)\n",
    "        w.writerow([\"status_id\", \"status_message\", \"link_name\", \"status_type\", \"status_link\",\n",
    "           \"status_published\", \"num_likes\", \"num_comments\", \"num_shares\"])\n",
    "        \n",
    "        has_next_page = True\n",
    "        num_processed = 0   # keep a count on how many we've processed\n",
    "        scrape_starttime = datetime.datetime.now()\n",
    "        \n",
    "        print \"Scraping %s Facebook Page: %s\\n\" % (page_id, scrape_starttime)\n",
    "        \n",
    "        statuses = getFacebookPageFeedData(page_id, access_token, 100)\n",
    "        \n",
    "        while has_next_page:\n",
    "            for status in statuses['data']:\n",
    "                w.writerow(processFacebookPageFeedStatus(status))\n",
    "                \n",
    "                # output progress occasionally to make sure code is not stalling\n",
    "                num_processed += 1\n",
    "                if num_processed % 1000 == 0:\n",
    "                    print \"%s Statuses Processed: %s\" % (num_processed, datetime.datetime.now())\n",
    "                    \n",
    "            # if there is no next page, we're done.\n",
    "            if 'paging' in statuses.keys():\n",
    "                statuses = json.loads(request_until_succeed(statuses['paging']['next']))\n",
    "            else:\n",
    "                has_next_page = False\n",
    "                \n",
    "        \n",
    "        print \"\\nDone!\\n%s Statuses Processed in %s\" % (num_processed, datetime.datetime.now() - scrape_starttime)\n",
    "\n",
    "\n",
    "scrapeFacebookPageFeedStatus(page_id, access_token)"
   ]
  },
  {
   "cell_type": "markdown",
   "metadata": {},
   "source": [
    "The CSV can be opened in all major statistical programs. Have fun! :)\n",
    "\n",
    "You can download the [NYTimes data here](https://dl.dropboxusercontent.com/u/2017402/nytimes_facebook_statuses.zip). [4.6MB]"
   ]
  },
  {
   "cell_type": "code",
   "execution_count": null,
   "metadata": {
    "collapsed": true
   },
   "outputs": [],
   "source": []
  }
 ],
 "metadata": {
  "kernelspec": {
   "display_name": "Python [py27]",
   "language": "python",
   "name": "Python [py27]"
  },
  "language_info": {
   "codemirror_mode": {
    "name": "ipython",
    "version": 2
   },
   "file_extension": ".py",
   "mimetype": "text/x-python",
   "name": "python",
   "nbconvert_exporter": "python",
   "pygments_lexer": "ipython2",
   "version": "2.7.12"
  }
 },
 "nbformat": 4,
 "nbformat_minor": 0
}
