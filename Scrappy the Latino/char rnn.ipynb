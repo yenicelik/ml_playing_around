{
 "cells": [
  {
   "cell_type": "markdown",
   "metadata": {},
   "source": [
    "# Creating and running the LSTM model to generate DailyMail-worthy articles"
   ]
  },
  {
   "cell_type": "markdown",
   "metadata": {},
   "source": [
    "Well, this notebook is only used for rapid prototyping and debugging. For production, we will need to put all into a python script because Euler only accepts minimalistic scripts"
   ]
  },
  {
   "cell_type": "markdown",
   "metadata": {},
   "source": [
    "We will need a sidebar..."
   ]
  },
  {
   "cell_type": "raw",
   "metadata": {},
   "source": [
    "%%javascript\n",
    "$('<div id=\"toc\"></div>').css({position: 'fixed', top: '120px', left: 0}).appendTo(document.body);\n",
    "$.getScript('https://kmahelona.github.io/ipython_notebook_goodies/ipython_notebook_toc.js');"
   ]
  },
  {
   "cell_type": "code",
   "execution_count": null,
   "metadata": {
    "collapsed": true
   },
   "outputs": [],
   "source": []
  },
  {
   "cell_type": "code",
   "execution_count": 5,
   "metadata": {
    "collapsed": true
   },
   "outputs": [],
   "source": [
    "import numpy as np\n",
    "import tensorflow as tf"
   ]
  },
  {
   "cell_type": "markdown",
   "metadata": {},
   "source": [
    "---\n",
    "1. (Hyper)Parameter setting\n",
    "---"
   ]
  },
  {
   "cell_type": "markdown",
   "metadata": {},
   "source": [
    "We need to get all possible characters into once set. We also need to turn all characters into one-hot vectors:"
   ]
  },
  {
   "cell_type": "code",
   "execution_count": null,
   "metadata": {
    "collapsed": true
   },
   "outputs": [],
   "source": [
    "filepath = 'DailyMail_title.txt'\n",
    "\n"
   ]
  },
  {
   "cell_type": "code",
   "execution_count": 3,
   "metadata": {
    "collapsed": true
   },
   "outputs": [],
   "source": [
    "# Parameters to achieve 82 perplexity within 1 day\n",
    "#params = {batch_size=20,\n",
    "#                seq_length=35,\n",
    "#                layers=2,\n",
    "#                decay=1.15,\n",
    "#                rnn_size=1500,\n",
    "#                dropout=0.65,\n",
    "#                init_weight=0.04,\n",
    "#                lr=1,\n",
    "#                vocab_size=10000,\n",
    "#                max_epoch=14,\n",
    "#                max_max_epoch=55,\n",
    "#                max_grad_norm=10\n",
    "#                }"
   ]
  },
  {
   "cell_type": "code",
   "execution_count": 8,
   "metadata": {
    "collapsed": false
   },
   "outputs": [],
   "source": [
    "# Parameters to achieve 115 perplexity within 1 hour\n",
    "params = {\n",
    "        'data_dir' : 'data/DailyMail_titles.txt',\n",
    "        'batch_size':20,\n",
    "        'seq_length':20,\n",
    "        'layers':2,\n",
    "        'decay':2,\n",
    "        'rnn_size':200,\n",
    "        'dropout':0,\n",
    "        'max_epoch':4,\n",
    "        'max_max_epoch':13,\n",
    "        'max_grad_norm':5\n",
    "         }"
   ]
  },
  {
   "cell_type": "markdown",
   "metadata": {},
   "source": [
    "---\n",
    "2. Defining helper functions for the model\n",
    "---"
   ]
  },
  {
   "cell_type": "markdown",
   "metadata": {},
   "source": [
    "Consider importing already existing weights from either Karpathy or someone else"
   ]
  },
  {
   "cell_type": "markdown",
   "metadata": {},
   "source": [
    "We use a predefined model (https://github.com/sherjilozair/char-rnn-tensorflow/blob/master/model.py)\n",
    "simply because this project serves the purpose to get to know tensorflow a little better..."
   ]
  },
  {
   "cell_type": "markdown",
   "metadata": {},
   "source": [
    "First of all, define a text and tensor loader helper class"
   ]
  },
  {
   "cell_type": "markdown",
   "metadata": {},
   "source": [
    "### Helper Class 'TextLoader' for Preprocessing"
   ]
  },
  {
   "cell_type": "code",
   "execution_count": 16,
   "metadata": {
    "collapsed": true
   },
   "outputs": [],
   "source": [
    "import codecs\n",
    "import os\n",
    "import collections\n",
    "from six.moves import cPickle\n",
    "\n",
    "class TextLoader():\n",
    "    def __init__(self, data_dir, batch_size, seq_length, input_filename, checkpoint_filename):\n",
    "        self.batch_pointer = 0\n",
    "        self.batch_size = batch_size\n",
    "        self.seq_length = seq_length\n",
    "        self.input_file = input_filename    \n",
    "        self.checkpoint_file = checkpoint_filename #format .npy\n",
    "        \n",
    "    def preprocess(self, input_file, tensor_file, load=False, prev_model):\n",
    "        #Should really include a pointer where we left off\n",
    "        #assert statements\n",
    "        with open(input_file, 'r') as f:\n",
    "            self.chars = list(set(data))\n",
    "            self.data_size = len(data)\n",
    "            self.vocab_size = len(chars)            #possible chances to actually \n",
    "            #very simple dictionary assigning number to characters\n",
    "            self.char_to_ix = { ch:i for i, ch in enumerate(self.chars)}\n",
    "            self.ix_to_char = { i:ch for i, ch in enumerate(self.chars)}\n",
    "            \n",
    "        if (load):\n",
    "            with open(tensor_file, 'r') as f:\n",
    "                self.tensor = np.load(tensor_file)\n",
    "        else:\n",
    "            self.tensor = np.array(list(map(self.)))\n",
    "            #self.tensor = np.array(list(map(self.vocab.get, data))) not sure what this line is supposed to do...\n",
    "        np.save(tensor_file + '_' + str(self.pointer), self.tensor) #saving the pointer value within the filename...\n",
    "        \n",
    "    def create_batches(self):\n",
    "        batch_size = self.batch_size * self.seq_length\n",
    "        self.num_batches = int(self.tensor.size / (batch_size))\n",
    "        if (self.num_batches == 0):\n",
    "            assert False, \"Not enough data to receive batch!\" #maybe a more elegant way to end this...\n",
    "        self.y_batch[:-1] = np.copy(xdata[1:])\n",
    "        self.y_batch[-1] = np.copy(xdata[0])\n",
    "        \n",
    "        \n",
    "        self.x_batches = self.tensor[self.pointer * batch_size : (self.pointer + 1) * batch_size ]\n",
    "        self.y_batches = np.zeros(xdatas.shape)\n",
    "        \n",
    "        \n",
    "    def next_batch(self):\n",
    "        \n",
    "        self.batch_pointer += 1\n",
    "        \n",
    "        return True    #in case anything could go write, write some return False statements...\n",
    "        \n",
    "    def reset_batch_pointer(self):\n",
    "        self.pointer = 0\n",
    "        "
   ]
  },
  {
   "cell_type": "markdown",
   "metadata": {},
   "source": [
    "Secondly, define the model that we want to train"
   ]
  },
  {
   "cell_type": "markdown",
   "metadata": {},
   "source": [
    "### Model Class 'Model' defining the Multi-Layer-LSTM Network"
   ]
  },
  {
   "cell_type": "code",
   "execution_count": 17,
   "metadata": {
    "collapsed": true
   },
   "outputs": [],
   "source": [
    "from tensorflow.python.ops import rnn_cell\n",
    "from tensorflow.python.ops import seq2seq\n",
    "\n",
    "class Model():\n",
    "    def __init__(self, params):\n",
    "        \"\"\"Params currently include (for optimal 81 perplexity in 1 day) following parameters:\n",
    "            {   batch_size=20,\n",
    "                seq_length=35,\n",
    "                num_layers=2,\n",
    "                decay=1.15,\n",
    "                rnn_size=1500,\n",
    "                dropout=0.65,\n",
    "                init_weight=0.04,\n",
    "                lr=1,\n",
    "                vocab_size=10000,\n",
    "                max_epoch=14,\n",
    "                max_max_epoch=55,\n",
    "                max_grad_norm=10\n",
    "            }\n",
    "         \"\"\" \n",
    "        self.params = params\n",
    "        self.cell = rnn_cell.MultiRNNCell([rnn_cell.BasicLSTM()] * params['num_layers'])\n",
    "        \n",
    "        #Handling input/output #see http://karpathy.github.io/2015/05/21/rnn-effectiveness/ for annotated one-hot version\n",
    "        self.input_data = tf.placeholder(tf.int32, [params['batch_size', params['seq_length']]])\n",
    "        self.targets = tf.placeholder(tf.int32, [params['batch_size'], params['seq_length']])\n",
    "        self.initial_state = self.cell.zero_state(params['batch_size'], tf.float32)\n",
    "        \n",
    "        with tf.variable_scope('rnnlm'):\n",
    "            softmax_W = tf.get_variable(\"softmax_w\", [params['rnn_size'], params['vocab_size']])\n",
    "            softmax_b = tf.get_variable(\"softmax_b\", [params['rnn_size'], params['vocab_size']])\n",
    "            \n",
    "            #handle character to one-hot representation here\n",
    "            #this should just map the characters to one-hot vectors... no biggie, so we don't need a function...\n",
    "            with tf.device(\"/cpu:0\"):\n",
    "            #####    #simple array access should do\n",
    "                embeddings = tf.get_variable(\"embedding\",)\n",
    "            ##### END OF ONE HOT DECODER\n",
    "        \n",
    "        def loop(prev, _):\n",
    "            prev = tf.matmul(prev, softmax_w) + softmax_b # sample run\n",
    "            prev_symbol = tf.stop_gradient(tf.argmax(prev, 1)) # stop gradient bcs otherwise we override embedding weights\n",
    "            return tf.nn.embedding_lookup(embeddings, prev_symbol)\n",
    "        \n",
    "        #define the logic....\n",
    "        outputs, last_state = seq2seq.rnn_decoder(inputs, self.initial_state, cell, loop_function=loop, scope='rnnlm')\n",
    "        output = tf.reshape(tf.concat(1, outputs), [-1, params['rnn_size']])\n",
    "        self.logits = tf.matmutl(output, softmax_weights) + softmax_bias\n",
    "        self.probs = tf.nn.softmax(self.logits)\n",
    "        \n",
    "        loss = seq2seq.sequence_loss_by_example([self.logits],\n",
    "                                                [tf.reshape(self.targets, [-1])],\n",
    "                                               [tf.ones([params['batch_size'] * params['seq_length']])],\n",
    "                                               params['vocab_size']\n",
    "                                               )\n",
    "        \n",
    "        self.cost = tf.reduce_sum(loss) / params['batch_size'] / params['seq_length']\n",
    "        self.final_state = last_state\n",
    "        self.lr = tf.Variable(0.0, trainable=False)\n",
    "        tvars = tf.trainable_variables()\n",
    "        grads, _ = tf.clip_by_global_norm(tf.gradients(self.cost, tvars), params['grad_clip'])\n",
    "        optimizer = tf.train.AdamOptimizer(self.lr)\n",
    "        self.train_op = optimizer.apply_gradients(zip(grad, tvars))\n",
    "        \n",
    "    #defining a single sample run...\n",
    "    def sample(self, sess, chars, vocab, num=200, prime='The ', sample_type=1):\n",
    "        #defining the start state (we must start from a zero starting cell)\n",
    "        state = self.cell.zero_state(1, tf.float32).eval()\n",
    "        for char in prime[:-1]:\n",
    "            x = np.zero((1, 1))\n",
    "            x[0,0] = vocab[char]\n",
    "            feed = {self.input_data : x, self.initial_state:state} \n",
    "            [state] = sess.run([self.final_state], feed)    #last hidden state, must feed in the last state (recurrent shit)\n",
    "            \n",
    "        def weighted_pick(weights):\n",
    "            #define any sampling function\n",
    "            t = np.cumsum(weights)\n",
    "            s = np.sum(weights)\n",
    "            return(int(np.seachsorted(t, np.random.rand(1) * s)))\n",
    "        \n",
    "        ret = prime    #the character to be returned\n",
    "        char = prime[-1]    #what character to start with...\n",
    "        for n in range(num):\n",
    "            x = np.zeros((1,1))\n",
    "            x[0, 0] = vocab[char]\n",
    "            feed = {self.input_data: x, self.initial_state:state}\n",
    "            [probs, state] = sess.run([self.probs, self.final_state], feed)\n",
    "            p = probs[0]\n",
    "            sample = weighted_pick(p)\n",
    "                \n",
    "            pred = chars[sample]\n",
    "            ret += pred\n",
    "            char = pred\n",
    "        return ret\n"
   ]
  },
  {
   "cell_type": "markdown",
   "metadata": {},
   "source": [
    "### Third, train the model\n",
    "\n"
   ]
  },
  {
   "cell_type": "code",
   "execution_count": 1,
   "metadata": {
    "collapsed": true
   },
   "outputs": [],
   "source": [
    "def train(params):\n",
    "    \"\"\"Finally training the model\n",
    "    params = {\n",
    "        'batch_size':20,\n",
    "        'seq_length':20,\n",
    "        'layers':2,\n",
    "        'decay':2,\n",
    "        'rnn_size':200,\n",
    "        'dropout':0,\n",
    "        'max_epoch':4,\n",
    "        'max_max_epoch':13,\n",
    "        'max_grad_norm':5\n",
    "    }\n",
    "    \"\"\"\n",
    "    data_load = TextLoader(params['data_dir'],\n",
    "                          params['batch_size'],\n",
    "                          params['seq_length'])\n",
    "    \n",
    "    #save and load a cPickle file so training doesnt have to start from scratch\n",
    "    \n",
    "    if args.init_from is not None:\n",
    "        # check if all necessary files exist \n",
    "        assert os.path.isdir(params['init_from']),\" %s must be a a path\" % params['init_from']\n",
    "        \n",
    "        ckpt = tf.train.get_checkpoint_state(args.init_from)\n",
    "        assert ckpt,\"No checkpoint found\"\n",
    "        assert ckpt.model_checkpoint_path,\"No model path found in checkpoint\"\n",
    "        \n",
    "        \n",
    "    model = Model(params)\n",
    "    \n",
    "    #hyperloop\n",
    "    \n",
    "    with tf.Session() as sess:\n",
    "        tf.initialize_all_variables().run()\n",
    "        saver = tf.train.Saver(tf.all_variables())\n",
    "        \n",
    "        for e in xrange(params['max_epochs']):\n",
    "            sess.run(tf.assign(model.lr, args.learning_rate * (args.decay_rate ** e)))  #maybe \n",
    "            data_loader.reset_batch_pointer()   #because one epoch is one pass through the data\n",
    "            state = model.initial_state.eval() # wtf is this initial_state shit??? well, we gotta initialize anyways.... do we? no!\n",
    "            for b in xrange(data_load.num_batches):\n",
    "                start = time.time()\n",
    "                x, y = data_loader.next_batch()\n",
    "                feed = {model.input_data: x, model.targets: y, model.initial_state: state}\n",
    "                train_loss, state, _ = sess.run([model.cost, model.final_state, model.train_op], feed)\n",
    "                end = time.time()\n",
    "                \n",
    "                print(\"{}/{} (epoch {}), train_loss = {:.3f}, time/batch = {:.3f}\" .format(e * data_loader.num_batches + b,\n",
    "                                                                                            args.num_epochs * data_loader.num_batches,\n",
    "                                                                                            e, train_loss, end - start))\n",
    "                if (e * data_loader.num_batches + b) % args.save_every == 0\\\n",
    "                    or (e==args.num_epochs-1 and b == data_loader.num_batches-1): # save for the last result\n",
    "                    checkpoint_path = os.path.join(args.save_dir, 'model.ckpt')\n",
    "                    saver.save(sess, checkpoint_path, global_step = e * data_loader.num_batches + b)\n",
    "                    print(\"model saved to {}\".format(checkpoint_path))\n",
    "        \n",
    "        \n",
    "        "
   ]
  },
  {
   "cell_type": "code",
   "execution_count": null,
   "metadata": {
    "collapsed": true
   },
   "outputs": [],
   "source": []
  },
  {
   "cell_type": "code",
   "execution_count": 19,
   "metadata": {
    "collapsed": true
   },
   "outputs": [],
   "source": [
    "import time\n",
    "import os\n",
    "from six.moves import cPickle\n",
    "\n",
    "parameters = {\n",
    "    'data_dir' : 'data/DailyMail',\n",
    "    'save_dir' : 'save',\n",
    "    'rnn_size' : 128,\n",
    "    'num_layers' : 2,\n",
    "    'batch_size' : 50,\n",
    "    'seq_length' : 50,\n",
    "    'num_epochs' : 50,\n",
    "    'save_every' : 1000,\n",
    "    'grad_clip' : 5.0,\n",
    "    'learning_rate' : 0.002, #maybe build a neural net for that\n",
    "    'decay_rate' : 0.97,\n",
    "    'init_from' : 'checkpoint', # again, neural net for that ?\n",
    "}\n",
    "\n",
    "train(parameters)\n",
    "\n",
    "def main():\n",
    "    "
   ]
  },
  {
   "cell_type": "code",
   "execution_count": null,
   "metadata": {
    "collapsed": true
   },
   "outputs": [],
   "source": [
    "x = tf.placeholder(tf.float32, [None, params['seq_length'], params['batch_size']])\n",
    "y = tf.placeholder(tf.float32, [None, params['seq_length']])"
   ]
  },
  {
   "cell_type": "code",
   "execution_count": 11,
   "metadata": {
    "collapsed": false
   },
   "outputs": [],
   "source": [
    "def LSTM(x, prev_c, prev_h):\n",
    "    \n",
    "    #Calculate inputs\n",
    "    i2h = tf.matmul(\n",
    "        tf.Variable(tf.truncated_normal([params['rnn_size'], 4*params['rnn_size']], stddev=0.1), name=\"Wx\"),\n",
    "        x)\n",
    "    h2h = tf.matmul(\n",
    "        tf.Variable(tf.truncated_normal([params['rnn_size'], 4*params['rnn_size']], stddev=0.1), name=\"Wh\"),\n",
    "        prev_h)\n",
    "    gates = tf.add(i2h + h2h)\n",
    "    \n",
    "    #Reshape to do effective calculations\n",
    "    reshaped_gates = tf.reshape(gates, (4, params['rnn_size'])) \n",
    "    sliced_gated = tf.split(params['rnn_size']/2, 2, reshaped_gates)\n",
    "    \n",
    "    #Fetch individual weights\n",
    "    in_gate = tf.sigmoid( sliced_gated[0] )\n",
    "    in_transform = tf.tanh( sliced_gated[1] )\n",
    "    forget_gate = tf.sigmoid( sliced_gated[2] )\n",
    "    out_gate = tf.sigmoid( sliced_gated[3] )\n",
    "    \n",
    "    #Calculating output\n",
    "    next_c = tf.add(\n",
    "            tf.matmul(forget_gate, prev_c),\n",
    "            tf.matmul(in_gate, in_transform)\n",
    "            )\n",
    "    next_h = tf.matmul(out_gate, tf.tanh(next_c))\n",
    "    \n",
    "    return next_c, next_h\n",
    "    "
   ]
  },
  {
   "cell_type": "code",
   "execution_count": 13,
   "metadata": {
    "collapsed": false
   },
   "outputs": [],
   "source": [
    "with tf.Graph().as_default(), tf.Session() as sess:\n",
    "    \n",
    "    x = tf.placeholder(tf.float32, [None, params['batch_size'], params['seq_length']])\n",
    "    y_ = tf.placeholder(tf.float32,[None, params['seq_length']] )\n",
    "    "
   ]
  },
  {
   "cell_type": "code",
   "execution_count": null,
   "metadata": {
    "collapsed": true
   },
   "outputs": [],
   "source": [
    "def create_network():\n",
    "    x = tf.placeholder()\n",
    "    y = tf.placeholder()\n",
    "    prev_s = tf.placeholder()\n",
    "    #load the current word vector into var i\n",
    "    \n",
    "    next_s = tf.variable()\n",
    "    split = tf.split(, , prev_s)\n",
    "\n",
    "    for layer_idx in range(params.layers):\n",
    "        prev_c = tf.split()\n",
    "        prev_h = tf.split()\n",
    "        dropped = tf.nn.dropout(i[layer_idx - 1], params['dropout'])\n",
    "        next_c, next_h = lstm(dropped, prev_c, prev_h)\n",
    "        #add to tables...\n",
    "        i[layer_idx] = next_h\n",
    "        \n",
    "    h2y = tf.Linear()\n",
    "    dropped = tf.nn.dropout( i[params['layers']], params['dropout'])\n",
    "    pred = tf.nn\n",
    "    "
   ]
  }
 ],
 "metadata": {
  "anaconda-cloud": {},
  "kernelspec": {
   "display_name": "Python [py27]",
   "language": "python",
   "name": "Python [py27]"
  },
  "language_info": {
   "codemirror_mode": {
    "name": "ipython",
    "version": 2
   },
   "file_extension": ".py",
   "mimetype": "text/x-python",
   "name": "python",
   "nbconvert_exporter": "python",
   "pygments_lexer": "ipython2",
   "version": "2.7.12"
  }
 },
 "nbformat": 4,
 "nbformat_minor": 0
}
