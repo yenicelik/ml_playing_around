{
 "cells": [
  {
   "cell_type": "markdown",
   "metadata": {},
   "source": [
    "# Collecting Data"
   ]
  },
  {
   "cell_type": "markdown",
   "metadata": {},
   "source": [
    "We use the python-framework scrapy to collect data from specific clickbait sources. For reasons of time and space, we start with a specific domain. There is a reason the word 'celebrity' exists, right?"
   ]
  },
  {
   "cell_type": "markdown",
   "metadata": {},
   "source": [
    "We will focus to scrape  the following sources: \n",
    "* Buzzfeed: https://www.buzzfeed.com/celebrity\n",
    "* Maybe an english version of Bild\n",
    "* Upworthy: https://www.upworthy.com/ - seems to be trash enough\n",
    "* The Sun: https://www.thesun.co.uk/\n",
    "* Fox News: http://www.foxnews.com/politics.html\n",
    "One more, then the amount of time for scraping should be more important than actually the number of different sources"
   ]
  },
  {
   "cell_type": "markdown",
   "metadata": {},
   "source": [
    "From these individual sources, we try to extract the following:\n",
    "* Headers: Our agent should imitate headers\n",
    "* Text Style: Our agent should imitate style of the text\n",
    "* Text Content: Our agent should imitate the content of the text (this is a diffiult to achieve topic, maybe use injective techniques with style?)\n",
    "* Style Sheet: This is really difficult, but imitating the style of an article including pictures, quotes etc. using the CSS maybe (or some similar source) would be really, really cool. Of course this is really, really advanced and I'm not sure if research in this domain is public. So let's leave this out for some (distant) future"
   ]
  },
  {
   "cell_type": "code",
   "execution_count": null,
   "metadata": {
    "collapsed": true
   },
   "outputs": [],
   "source": []
  }
 ],
 "metadata": {
  "anaconda-cloud": {},
  "kernelspec": {
   "display_name": "Python [py27]",
   "language": "python",
   "name": "Python [py27]"
  },
  "language_info": {
   "codemirror_mode": {
    "name": "ipython",
    "version": 2
   },
   "file_extension": ".py",
   "mimetype": "text/x-python",
   "name": "python",
   "nbconvert_exporter": "python",
   "pygments_lexer": "ipython2",
   "version": "2.7.12"
  }
 },
 "nbformat": 4,
 "nbformat_minor": 0
}
